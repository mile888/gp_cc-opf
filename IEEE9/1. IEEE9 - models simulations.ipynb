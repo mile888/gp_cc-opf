version https://git-lfs.github.com/spec/v1
oid sha256:cc58ee8de11ee86636eb7131705d76ef32fbc8579891a0d78383d2982a8b42d3
size 268698
