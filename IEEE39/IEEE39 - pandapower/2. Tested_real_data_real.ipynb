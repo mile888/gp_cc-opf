version https://git-lfs.github.com/spec/v1
oid sha256:8b8d27ce7137b27e6db4d1f913341dd763081a578d83532b8067d02045c2a2c5
size 194403
